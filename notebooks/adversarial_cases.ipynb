{
 "cells": [
  {
   "cell_type": "markdown",
   "id": "3738ab93-84ba-4a0a-a341-3a55a76bba14",
   "metadata": {},
   "source": [
    "# Relativistic orthogonalization: Adversarial examples\n",
    "Find adversarial examples that get at when orthogonalization borks, and when it borks even under arbitrary linear combinations of the input vectors.\n",
    "\n",
    "## Author:\n",
    "- **David W. Hogg** (NYU)\n",
    "\n",
    "## Notes:"
   ]
  },
  {
   "cell_type": "code",
   "execution_count": null,
   "id": "2f12996b-b9b0-4089-b49c-44deaf9a659d",
   "metadata": {},
   "outputs": [],
   "source": [
    "import numpy as np\n",
    "NDIGIT = 10 # rounding / precision limit we care about"
   ]
  },
  {
   "cell_type": "code",
   "execution_count": null,
   "id": "00c99dfb-3a1f-4d23-a098-2d48c2c84dd0",
   "metadata": {},
   "outputs": [],
   "source": [
    "def metric(s, d):\n",
    "    foo = np.ones(d + s)\n",
    "    foo[s:] = -1.\n",
    "    return np.diag(foo)\n",
    "\n",
    "def inner(u, v):\n",
    "    return u.T @ METRIC @ v\n",
    "\n",
    "def orthogonalize(vs):\n",
    "    dpluss, _ = METRIC.shape\n",
    "    n, dps = vs.shape\n",
    "    assert n <= dpluss\n",
    "    assert dps == dpluss\n",
    "    us = np.zeros_like(vs)\n",
    "    for i in range(n):\n",
    "        ui = 1. * vs[i]\n",
    "        for j in range(i):\n",
    "            ui -= (inner(vs[i], us[j]) / inner(us[j], us[j])) * us[j]\n",
    "        us[i] = ui\n",
    "    return us"
   ]
  },
  {
   "cell_type": "code",
   "execution_count": null,
   "id": "6aa04e42-18d1-4dbe-ad07-bc4d5e6cc0a8",
   "metadata": {},
   "outputs": [],
   "source": [
    "# set up an extremely weird kind of Lorentz space\n",
    "s, d = 2, 4 # two times!\n",
    "METRIC = metric(s, d)\n",
    "print(METRIC)"
   ]
  },
  {
   "cell_type": "code",
   "execution_count": null,
   "id": "219682eb-e86a-4ff8-8264-1a701ab0e046",
   "metadata": {},
   "outputs": [],
   "source": [
    "# make adversarial examples by hand\n",
    "a1 = np.array([4.8, 0.0, 3.0, 4.0, 0.0, 0.0])\n",
    "a2 = np.array([0.4, 0.0, 2.0,-2.0, 0.0, 0.0])\n",
    "a3 = np.array([0.0, 4.8, 0.0, 0.0, 3.0, 4.0])\n",
    "a4 = np.array([0.0, 0.4, 0.0, 0.0, 2.0,-2.0])\n",
    "print([np.round(inner(a, a), NDIGIT) for a in [a1, a2, a3, a4]])"
   ]
  },
  {
   "cell_type": "code",
   "execution_count": null,
   "id": "4dbd9ac0-76e0-40b2-9334-64b03ec1ccc7",
   "metadata": {},
   "outputs": [],
   "source": [
    "# this is bad\n",
    "us = orthogonalize(np.array([a1, a2]))\n",
    "print([np.round(inner(u, u), NDIGIT) for u in us])\n",
    "us = orthogonalize(np.array([a3, a4]))\n",
    "print([np.round(inner(u, u), NDIGIT) for u in us])"
   ]
  },
  {
   "cell_type": "code",
   "execution_count": null,
   "id": "9d6b1dbb-d1a7-43a9-835a-6519c5092ac1",
   "metadata": {},
   "outputs": [],
   "source": [
    "# perhaps suprisingly, this is also bad\n",
    "us = orthogonalize(np.array([a2, a1]))\n",
    "print([np.round(inner(u, u), NDIGIT) for u in us])\n",
    "us = orthogonalize(np.array([a4, a3]))\n",
    "print([np.round(inner(u, u), NDIGIT) for u in us])"
   ]
  },
  {
   "cell_type": "code",
   "execution_count": null,
   "id": "4039d710-d194-4afe-8b7c-691dcc52fd64",
   "metadata": {},
   "outputs": [],
   "source": [
    "# even linear combinations of the bad pairs bork!\n",
    "rng = np.random.default_rng(17)\n",
    "TINY = 10 ** -NDIGIT\n",
    "ntrial = 2 ** 3\n",
    "nsuccess = 0\n",
    "for t in range(ntrial):\n",
    "    ras = rng.normal(size=(2, 2)) @ np.array([a1, a2])\n",
    "    us = orthogonalize(ras)\n",
    "    nsuccess += 1\n",
    "    if np.abs(np.prod([inner(u, u) for u in us])) < TINY:\n",
    "        print(t, \"failed:\", [np.round(inner(u, u), NDIGIT) for u in us])\n",
    "        nsuccess -= 1\n",
    "print(\"Out of\", ntrial, \"trials:\", nsuccess, \"successes\")"
   ]
  },
  {
   "cell_type": "code",
   "execution_count": null,
   "id": "db3eefa8-b196-40c1-bf88-f1591591188b",
   "metadata": {},
   "outputs": [],
   "source": [
    "# it even borks if we do linear combinations of the pair of pairs; ie, the outer product of the subspaces\n",
    "rng = np.random.default_rng(17)\n",
    "ntrial = 2 ** 3\n",
    "nsuccess = 0\n",
    "for t in range(ntrial):\n",
    "    ras = rng.normal(size=(4, 4)) @ np.array([a1, a2, a3, a4])\n",
    "    us = orthogonalize(ras)\n",
    "    nsuccess += 1\n",
    "    if np.abs(np.prod([inner(u, u) for u in us])) < TINY:\n",
    "        print(t, \"failed:\", [np.round(inner(u, u), NDIGIT) for u in us])\n",
    "        nsuccess -= 1\n",
    "print(\"Out of\", ntrial, \"trials:\", nsuccess, \"successes\")"
   ]
  },
  {
   "cell_type": "code",
   "execution_count": null,
   "id": "d6b71cf0-b6af-4cf1-8e33-eda5b22d4021",
   "metadata": {},
   "outputs": [],
   "source": [
    "# perhaps unsuprisingly, this is fine!\n",
    "us = orthogonalize(np.array([a2, a3]))\n",
    "print([np.round(inner(u, u), NDIGIT) for u in us])\n",
    "us = orthogonalize(np.array([a1, a4]))\n",
    "print([np.round(inner(u, u), NDIGIT) for u in us])\n",
    "us = orthogonalize(np.array([a1, a3]))\n",
    "print([np.round(inner(u, u), NDIGIT) for u in us])\n",
    "us = orthogonalize(np.array([a2, a4]))\n",
    "print([np.round(inner(u, u), NDIGIT) for u in us])"
   ]
  },
  {
   "cell_type": "code",
   "execution_count": null,
   "id": "9291ac99-c48d-4d9b-9a01-777828a84ddd",
   "metadata": {},
   "outputs": [],
   "source": [
    "# now what if the pairs aren't so separated? Then things are fine!\n",
    "# that is, if the combination a1, a2, a3, a4 is not just the outer product of the a1, a2 and a3, a4 spaces.\n",
    "a1 = np.array([4.8, 0.0, 3.0, 4.0, 0.0, 0.0])\n",
    "a2 = np.array([0.4, 0.0, 2.0,-2.0, 0.0, 0.0])\n",
    "a3 = np.array([0.0, 4.8, 0.0, 3.0, 4.0, 0.0])\n",
    "a4 = np.array([0.0, 0.4, 0.0, 2.0,-2.0, 0.0])\n",
    "print([np.round(inner(a, a), NDIGIT) for a in [a1, a2, a3, a4]])\n",
    "rng = np.random.default_rng(17)\n",
    "ntrial = 2 ** 10\n",
    "nsuccess = 0\n",
    "for t in range(ntrial):\n",
    "    ras = rng.normal(size=(4, 4)) @ np.array([a1, a2, a3, a4])\n",
    "    us = orthogonalize(ras)\n",
    "    nsuccess += 1\n",
    "    if np.abs(np.prod([inner(u, u) for u in us])) < TINY:\n",
    "        print(t, \"failed:\", [np.round(inner(u, u), NDIGIT) for u in us])\n",
    "        nsuccess -= 1\n",
    "print(\"Out of\", ntrial, \"trials:\", nsuccess, \"successes\")"
   ]
  },
  {
   "cell_type": "code",
   "execution_count": null,
   "id": "b233221a-0cd9-4fd7-8aa9-91e57b663aca",
   "metadata": {},
   "outputs": [],
   "source": [
    "# what if we just add one more random vector?\n",
    "rng = np.random.default_rng(17)\n",
    "a3 = rng.normal(size=(d + s))\n",
    "print([np.round(inner(a, a), NDIGIT) for a in [a1, a2, a3]])\n",
    "ntrial = 2 ** 10\n",
    "nsuccess = 0\n",
    "for t in range(ntrial):\n",
    "    ras = rng.normal(size=(3, 3)) @ np.array([a1, a2, a3])\n",
    "    us = orthogonalize(ras)\n",
    "    nsuccess += 1\n",
    "    if np.abs(np.prod([inner(u, u) for u in us])) < TINY:\n",
    "        print(t, \"failed:\", [np.round(inner(u, u), NDIGIT) for u in us])\n",
    "        nsuccess -= 1\n",
    "print(\"Out of\", ntrial, \"trials:\", nsuccess, \"successes\")"
   ]
  },
  {
   "cell_type": "code",
   "execution_count": null,
   "id": "af71d621-32fd-4147-882b-646f4a57179d",
   "metadata": {},
   "outputs": [],
   "source": [
    "# and yet: You never hit nulls randomly\n",
    "rng = np.random.default_rng(17)\n",
    "ntrial = 2 ** 16\n",
    "nsuccess = 0\n",
    "for t in range(ntrial):\n",
    "    ras = rng.normal(size=(2, d + s))\n",
    "    us = orthogonalize(ras)\n",
    "    nsuccess += 1\n",
    "    if np.abs(np.prod([inner(u, u) for u in us])) < TINY:\n",
    "        print(t, \"failed on \", ras, us, [inner(u, u) for u in us])\n",
    "        nsuccess -= 1\n",
    "print(\"Out of\", ntrial, \"trials:\", nsuccess, \"successes\")"
   ]
  },
  {
   "cell_type": "code",
   "execution_count": null,
   "id": "385b92ee-3291-4427-90a8-06e66daf0cbb",
   "metadata": {},
   "outputs": [],
   "source": []
  }
 ],
 "metadata": {
  "kernelspec": {
   "display_name": "Python 3 (ipykernel)",
   "language": "python",
   "name": "python3"
  },
  "language_info": {
   "codemirror_mode": {
    "name": "ipython",
    "version": 3
   },
   "file_extension": ".py",
   "mimetype": "text/x-python",
   "name": "python",
   "nbconvert_exporter": "python",
   "pygments_lexer": "ipython3",
   "version": "3.9.6"
  }
 },
 "nbformat": 4,
 "nbformat_minor": 5
}
