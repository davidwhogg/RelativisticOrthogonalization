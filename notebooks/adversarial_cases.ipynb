{
 "cells": [
  {
   "cell_type": "code",
   "execution_count": null,
   "id": "2f12996b-b9b0-4089-b49c-44deaf9a659d",
   "metadata": {},
   "outputs": [],
   "source": [
    "import numpy as np\n",
    "NDIGIT = 10 # rounding / precision limit we care about"
   ]
  },
  {
   "cell_type": "code",
   "execution_count": null,
   "id": "00c99dfb-3a1f-4d23-a098-2d48c2c84dd0",
   "metadata": {},
   "outputs": [],
   "source": [
    "def inner(u, v):\n",
    "    return u.T @ METRIC @ v\n",
    "\n",
    "def orthogonalize(vs):\n",
    "    dpluss, _ = METRIC.shape\n",
    "    n, dps = vs.shape\n",
    "    assert n <= dpluss\n",
    "    assert dps == dpluss\n",
    "    us = np.zeros_like(vs)\n",
    "    for i in range(n):\n",
    "        ui = 1. * vs[i]\n",
    "        for j in range(i):\n",
    "            ui -= (inner(vs[i], us[j]) / inner(us[j], us[j])) * us[j]\n",
    "        us[i] = ui\n",
    "    return us"
   ]
  },
  {
   "cell_type": "code",
   "execution_count": null,
   "id": "6aa04e42-18d1-4dbe-ad07-bc4d5e6cc0a8",
   "metadata": {},
   "outputs": [],
   "source": [
    "s, d = 1, 2 # Lorentz space\n",
    "foo = np.ones(d + s)\n",
    "foo[s:] = -1.\n",
    "METRIC = np.diag(foo)\n",
    "print(METRIC)"
   ]
  },
  {
   "cell_type": "code",
   "execution_count": null,
   "id": "219682eb-e86a-4ff8-8264-1a701ab0e046",
   "metadata": {},
   "outputs": [],
   "source": [
    "# make adversarial examples by hand\n",
    "a1 = np.array([4.8, 3.0, 4.0])\n",
    "a2 = np.array([0.4, 2.0, -2.0])\n",
    "for a in [a1, a2]:\n",
    "    print(np.round(inner(a, a), NDIGIT))"
   ]
  },
  {
   "cell_type": "code",
   "execution_count": null,
   "id": "4dbd9ac0-76e0-40b2-9334-64b03ec1ccc7",
   "metadata": {},
   "outputs": [],
   "source": [
    "# this is bad\n",
    "us = orthogonalize(np.array([a1, a2]))\n",
    "for u in us:\n",
    "    print(np.round(inner(u, u), NDIGIT))"
   ]
  },
  {
   "cell_type": "code",
   "execution_count": null,
   "id": "9d6b1dbb-d1a7-43a9-835a-6519c5092ac1",
   "metadata": {},
   "outputs": [],
   "source": [
    "# perhaps suprisingly, this is also bad\n",
    "us = orthogonalize(np.array([a2, a1]))\n",
    "for u in us:\n",
    "    print(np.round(inner(u, u), NDIGIT))"
   ]
  },
  {
   "cell_type": "code",
   "execution_count": null,
   "id": "4039d710-d194-4afe-8b7c-691dcc52fd64",
   "metadata": {},
   "outputs": [],
   "source": [
    "# even linear combinations bork!\n",
    "rng = np.random.default_rng(17)\n",
    "TINY = 10 ** -NDIGIT\n",
    "ntrial = 2 ** 3\n",
    "nsuccess = 0\n",
    "for t in range(ntrial):\n",
    "    ras = rng.normal(size=(2, 2)) @ np.array([a1, a2])\n",
    "    us = orthogonalize(ras)\n",
    "    nsuccess += 1\n",
    "    if np.abs(np.prod([inner(u, u) for u in us])) < TINY:\n",
    "        print(t, \"failed on \", ras, us, [np.round(inner(u, u), NDIGIT) for u in us])\n",
    "        nsuccess -= 1\n",
    "print(\"Out of\", ntrial, \"trials:\", nsuccess, \"successes\")"
   ]
  },
  {
   "cell_type": "code",
   "execution_count": null,
   "id": "af71d621-32fd-4147-882b-646f4a57179d",
   "metadata": {},
   "outputs": [],
   "source": [
    "# and yet: You never hit nulls randomly\n",
    "rng = np.random.default_rng(17)\n",
    "ntrial = 2 ** 16\n",
    "nsuccess = 0\n",
    "for t in range(ntrial):\n",
    "    ras = rng.normal(size=(2, 3))\n",
    "    us = orthogonalize(ras)\n",
    "    nsuccess += 1\n",
    "    if np.abs(np.prod([inner(u, u) for u in us])) < TINY:\n",
    "        print(t, \"failed on \", ras, us, [inner(u, u) for u in us])\n",
    "        nsuccess -= 1\n",
    "print(\"Out of\", ntrial, \"trials:\", nsuccess, \"successes\")"
   ]
  },
  {
   "cell_type": "code",
   "execution_count": null,
   "id": "385b92ee-3291-4427-90a8-06e66daf0cbb",
   "metadata": {},
   "outputs": [],
   "source": []
  }
 ],
 "metadata": {
  "kernelspec": {
   "display_name": "Python 3 (ipykernel)",
   "language": "python",
   "name": "python3"
  },
  "language_info": {
   "codemirror_mode": {
    "name": "ipython",
    "version": 3
   },
   "file_extension": ".py",
   "mimetype": "text/x-python",
   "name": "python",
   "nbconvert_exporter": "python",
   "pygments_lexer": "ipython3",
   "version": "3.9.6"
  }
 },
 "nbformat": 4,
 "nbformat_minor": 5
}
