{
 "cells": [
  {
   "cell_type": "markdown",
   "metadata": {
    "colab_type": "text",
    "id": "view-in-github"
   },
   "source": [
    "<a href=\"https://colab.research.google.com/github/davidwhogg/RelativisticOrthogonalization/blob/main/coordinate_free_operators.ipynb\" target=\"_parent\"><img src=\"https://colab.research.google.com/assets/colab-badge.svg\" alt=\"Open In Colab\"/></a>"
   ]
  },
  {
   "cell_type": "code",
   "execution_count": null,
   "metadata": {
    "id": "Ih67jrROLZfV"
   },
   "outputs": [],
   "source": [
    "import numpy as np\n",
    "import pylab as plt\n",
    "# plt.rcParams.update({\"text.usetex\": True})"
   ]
  },
  {
   "cell_type": "code",
   "execution_count": null,
   "metadata": {
    "id": "fwbrA5vgNAhq"
   },
   "outputs": [],
   "source": [
    "def inner(u, v):\n",
    "    return u.T @ METRIC @ v\n",
    "\n",
    "def outer(u, v):\n",
    "    return np.outer(u, v) @ METRIC\n",
    "\n",
    "def norm(v):\n",
    "    return np.sqrt(np.abs(inner(v, v)))\n",
    "\n",
    "def cosine(u, v):\n",
    "    return inner(u, v) / norm(u) / norm(v)"
   ]
  },
  {
   "cell_type": "code",
   "execution_count": null,
   "metadata": {
    "id": "HQ1pAKceLgCw"
   },
   "outputs": [],
   "source": [
    "# start with O(2)\n",
    "d = 2\n",
    "METRIC = np.eye(d)\n",
    "ex = np.array([1., 0.])\n",
    "ey = np.array([0., 1.])\n",
    "vv = np.array([4.0, 2.2])\n",
    "vvprime = np.array([4.6, 1.])\n",
    "costheta = cosine(vv, vvprime)\n",
    "sintheta = np.sqrt(1. - costheta ** 2)\n",
    "print(costheta, sintheta)"
   ]
  },
  {
   "cell_type": "code",
   "execution_count": null,
   "metadata": {
    "id": "DhREi6MDLyxr"
   },
   "outputs": [],
   "source": [
    "def plot_arrow(v, name):\n",
    "    plt.plot([0, v[0]], [0, v[1]], \"k-\")\n",
    "    plt.text(1.15*v[0], 1.15*v[1], name, ha=\"center\", va=\"center\")"
   ]
  },
  {
   "cell_type": "code",
   "execution_count": null,
   "metadata": {
    "id": "p6BaLCWsYwcX"
   },
   "outputs": [],
   "source": [
    "def plot_circle():\n",
    "    thetas = np.linspace(0., 2. * np.pi, 1001)\n",
    "    plt.plot(np.cos(thetas), np.sin(thetas), \"k-\", lw=1., alpha=0.25)\n",
    "\n",
    "def plot_hyperbolae():\n",
    "    thetas = np.linspace(-5., 5., 1001)\n",
    "    plt.plot(np.cosh(thetas), np.sinh(thetas), \"k-\", lw=1., alpha=0.25)\n",
    "    plt.plot(-np.cosh(thetas), np.sinh(thetas), \"k-\", lw=1., alpha=0.25)\n",
    "    plt.plot(np.sinh(thetas), np.cosh(thetas), \"k-\", lw=1., alpha=0.25)\n",
    "    plt.plot(np.sinh(thetas), -np.cosh(thetas), \"k-\", lw=1., alpha=0.25)"
   ]
  },
  {
   "cell_type": "code",
   "execution_count": null,
   "metadata": {
    "id": "6HwmnEkbMH_z"
   },
   "outputs": [],
   "source": [
    "def plot_vectors(vlist, namelist):\n",
    "    plt.figure(figsize=(4,4))\n",
    "    axiskwargs = {\"color\": \"k\", \"lw\": 1., \"alpha\": 0.25}\n",
    "    plt.axvline(0, **axiskwargs)\n",
    "    plt.axhline(0, **axiskwargs)\n",
    "    for v, name in zip(vlist, namelist):\n",
    "        plot_arrow(v, name)\n",
    "    if np.allclose(METRIC, np.eye(2)):\n",
    "        plot_circle()\n",
    "    else:\n",
    "        plot_hyperbolae()\n",
    "    plt.gca().set_aspect(\"equal\")\n",
    "    a = 1.25 * np.max([np.sqrt(v.T @ v) for v in vlist])\n",
    "    plt.xlim(-a, a)\n",
    "    plt.ylim(-a, a)\n",
    "    return None"
   ]
  },
  {
   "cell_type": "code",
   "execution_count": null,
   "metadata": {
    "id": "K6AQOAzwQnnc"
   },
   "outputs": [],
   "source": [
    "plot_vectors((vv, vvprime), (r\"$v$\", r\"$v'$\"))"
   ]
  },
  {
   "cell_type": "code",
   "execution_count": null,
   "metadata": {
    "id": "48da4EUZMd3A"
   },
   "outputs": [],
   "source": [
    "def orthogonalize(v1, v2):\n",
    "    # specialized to n=2 vectors in d=2\n",
    "    u1 = v1\n",
    "    u2 = v2 - (inner(v2, u1) / inner(u1, u1)) * u1\n",
    "    return u1, u2\n",
    "\n",
    "def orthonormalize(v1, v2):\n",
    "    u1, u2 = orthogonalize(v1, v2)\n",
    "    return u1 / norm(u1), u2 / norm(u2)"
   ]
  },
  {
   "cell_type": "code",
   "execution_count": null,
   "metadata": {
    "id": "TON9h97bPgED"
   },
   "outputs": [],
   "source": [
    "uhat1, uhat2 = orthonormalize(vv, ey)\n",
    "uhatprime1, uhatprime2 = orthonormalize(vvprime, ey)"
   ]
  },
  {
   "cell_type": "code",
   "execution_count": null,
   "metadata": {
    "id": "a_acaFHoP02J"
   },
   "outputs": [],
   "source": [
    "plot_vectors((uhat1, uhat2, uhatprime1, uhatprime2),\n",
    "             (r\"$\\hat{u}_1$\", r\"$\\hat{u}_2$\", r\"$\\hat{u}'_1$\", r\"$\\hat{u}'_2$\"))"
   ]
  },
  {
   "cell_type": "code",
   "execution_count": null,
   "metadata": {
    "id": "G19MRFhjQNR5"
   },
   "outputs": [],
   "source": [
    "def rotation_matrix(u, v, w):\n",
    "    assert inner(u, u) * inner(v, v) > 0 # both timelike or both spacelike\n",
    "    uhat1, uhat2 = orthonormalize(u, w)\n",
    "    uhatprime1, uhatprime2 = orthonormalize(v, w)\n",
    "    return (outer(uhatprime1, uhat1) / inner(uhat1, uhat1) +\n",
    "            outer(uhatprime2, uhat2) / inner(uhat2, uhat2))\n",
    "\n",
    "def rotation_matrix_better(u, v):\n",
    "    assert inner(u, u) * inner(v, v) > 0 # both timelike or both spacelike\n",
    "    uhat, vhat = u / norm(u), v / norm(v)\n",
    "    return (outer(vhat, uhat) - outer(uhat, vhat) + inner(uhat, vhat) * np.eye(2)) / inner(uhat, uhat)"
   ]
  },
  {
   "cell_type": "code",
   "execution_count": null,
   "metadata": {
    "id": "wd4pzsKmSLxT"
   },
   "outputs": [],
   "source": [
    "Q = rotation_matrix(vv, vvprime, ey)\n",
    "Qbetter = rotation_matrix_better(vv, vvprime)\n",
    "Qtraditional = np.array([[costheta, sintheta], [-sintheta, costheta]])\n",
    "print(Q)\n",
    "print(np.allclose(Q, Qtraditional))\n",
    "print(np.allclose(Q, Qbetter))\n",
    "print(np.allclose(Q.T @ METRIC @ Q, METRIC))"
   ]
  },
  {
   "cell_type": "code",
   "execution_count": null,
   "metadata": {
    "id": "hfpldAFmSmQQ"
   },
   "outputs": [],
   "source": [
    "plot_vectors((vv, Q @ vv), (r\"$v$\", r\"$Q\\,v$\"))"
   ]
  },
  {
   "cell_type": "code",
   "execution_count": null,
   "metadata": {
    "id": "al1w4piuTQz3"
   },
   "outputs": [],
   "source": [
    "# now let's try O(1,1)\n",
    "METRIC = np.diag([1., -1.])\n",
    "ex = np.array([1., 0.])\n",
    "et = np.array([0., 1.])"
   ]
  },
  {
   "cell_type": "code",
   "execution_count": null,
   "metadata": {
    "id": "Zt2QpPm6Uom3"
   },
   "outputs": [],
   "source": [
    "plot_vectors((vv, vvprime), (r\"$v$\", r\"$v'$\"))"
   ]
  },
  {
   "cell_type": "code",
   "execution_count": null,
   "metadata": {
    "id": "qSt_xPeEUtXG"
   },
   "outputs": [],
   "source": [
    "uhat1, uhat2 = orthonormalize(vv, ex)\n",
    "uhatprime1, uhatprime2 = orthonormalize(vvprime, ex)"
   ]
  },
  {
   "cell_type": "code",
   "execution_count": null,
   "metadata": {
    "id": "5bKtjas_VDD4"
   },
   "outputs": [],
   "source": [
    "plot_vectors((uhat1, uhat2, uhatprime1, uhatprime2),\n",
    "             (r\"$\\hat{u}_1$\", r\"$\\hat{u}_2$\", r\"$\\hat{u}'_1$\", r\"$\\hat{u}'_2$\"))"
   ]
  },
  {
   "cell_type": "code",
   "execution_count": null,
   "metadata": {
    "id": "U_D9JYwZVF0X"
   },
   "outputs": [],
   "source": [
    "Q = rotation_matrix(vv, vvprime, -ex)\n",
    "Qbetter = rotation_matrix_better(vv, vvprime)\n",
    "print(Q)\n",
    "print(np.allclose(Q, Qbetter))\n",
    "print(np.allclose(Q.T @ METRIC @ Q, METRIC))\n",
    "print(np.allclose(Qbetter.T @ METRIC @ Qbetter, METRIC))"
   ]
  },
  {
   "cell_type": "code",
   "execution_count": null,
   "metadata": {
    "id": "TEqu7V7TWA5p"
   },
   "outputs": [],
   "source": [
    "plot_vectors((vv, Q @ vv), (r\"$v$\", r\"$Q\\,v$\"))"
   ]
  },
  {
   "cell_type": "code",
   "execution_count": null,
   "metadata": {
    "id": "jWfg3K2XWT3P"
   },
   "outputs": [],
   "source": [
    "# now do industrial tests\n",
    "rng = np.random.default_rng(17)\n",
    "for METRIC in [np.eye(2), np.diag([1., -1.])]:\n",
    "    for trial in range(12):\n",
    "        while True:\n",
    "            uu, vv = rng.normal(size=2), rng.normal(size=2)\n",
    "            if inner(uu, uu) * inner(vv, vv) > 0.:\n",
    "                break\n",
    "        Q = rotation_matrix(uu, vv, ex)\n",
    "        Qbetter = rotation_matrix_better(uu, vv)\n",
    "        print(trial, np.inner(uu, uu), np.inner(vv, vv), Q, Qbetter, np.allclose(Q, Qbetter))"
   ]
  },
  {
   "cell_type": "code",
   "execution_count": null,
   "metadata": {},
   "outputs": [],
   "source": []
  }
 ],
 "metadata": {
  "colab": {
   "authorship_tag": "ABX9TyNEmawK9SGTaHhhhdb3PDB6",
   "include_colab_link": true,
   "name": "coordinate_free_operators.ipynb",
   "provenance": []
  },
  "kernelspec": {
   "display_name": "Python 3 (ipykernel)",
   "language": "python",
   "name": "python3"
  },
  "language_info": {
   "codemirror_mode": {
    "name": "ipython",
    "version": 3
   },
   "file_extension": ".py",
   "mimetype": "text/x-python",
   "name": "python",
   "nbconvert_exporter": "python",
   "pygments_lexer": "ipython3",
   "version": "3.9.6"
  }
 },
 "nbformat": 4,
 "nbformat_minor": 4
}
