{
 "cells": [
  {
   "cell_type": "markdown",
   "id": "3ff5aee0-8e67-4682-a548-4fc1f29c9e39",
   "metadata": {},
   "source": [
    "# Make plots for the RelativisticOrthogonalization project"
   ]
  },
  {
   "cell_type": "code",
   "execution_count": null,
   "id": "c181b9dc-fe4a-4c9d-bc3d-5b0091617d32",
   "metadata": {},
   "outputs": [],
   "source": [
    "import numpy as np\n",
    "import pylab as plt\n",
    "import matplotlib as mpl"
   ]
  },
  {
   "cell_type": "code",
   "execution_count": null,
   "id": "2eecd07e-41d7-4dc3-a481-e9ef4500d334",
   "metadata": {},
   "outputs": [],
   "source": [
    "# plotting defaults\n",
    "mpl.rcParams['axes.xmargin'] = 0\n",
    "mpl.rcParams['axes.ymargin'] = 0\n",
    "mpl.rcParams['figure.figsize'] = (3, 3)\n",
    "dpi=200"
   ]
  },
  {
   "cell_type": "code",
   "execution_count": null,
   "id": "eba97dc0-119e-4354-b911-7685fca5e469",
   "metadata": {},
   "outputs": [],
   "source": [
    "# Start with Orthogonal Group\n",
    "d = 2\n",
    "METRIC = np.eye(d)"
   ]
  },
  {
   "cell_type": "code",
   "execution_count": null,
   "id": "953c9c73-d992-457d-b67a-9e79e5e17ad4",
   "metadata": {},
   "outputs": [],
   "source": [
    "def inner(v1, v2):\n",
    "    return v1.T @ METRIC @ v2.T\n",
    "\n",
    "def norm(v):\n",
    "    return np.sqrt(np.abs(inner(v, v)))\n",
    "\n",
    "def orthogonalize(vectors):\n",
    "    out_vectors = []\n",
    "    for vi in vectors:\n",
    "        ui = 1. * vi\n",
    "        for uj in out_vectors:\n",
    "            ui -= (inner(ui, uj) / inner(uj, uj)) * uj\n",
    "        ui /= norm(ui)\n",
    "        out_vectors += [ui, ]\n",
    "    return np.array(out_vectors)"
   ]
  },
  {
   "cell_type": "code",
   "execution_count": null,
   "id": "dd899c69-ac8c-4845-b803-5a5c30b8cbca",
   "metadata": {},
   "outputs": [],
   "source": [
    "vectors = np.array([[2.12, 0.75], [0.90, 1.61]])\n",
    "print(vectors)"
   ]
  },
  {
   "cell_type": "code",
   "execution_count": null,
   "id": "20e75a21-6013-4a5c-8225-c213620d408a",
   "metadata": {},
   "outputs": [],
   "source": [
    "vectors_prime = np.array([[1.77, -0.11], [0.50, 0.15]])\n",
    "print(vectors_prime)"
   ]
  },
  {
   "cell_type": "code",
   "execution_count": null,
   "id": "40a29840-3cd7-4c93-9404-9c2de48dc3c8",
   "metadata": {},
   "outputs": [],
   "source": [
    "# make some events / points -- HACK: weird logic!\n",
    "rng = np.random.default_rng(21)\n",
    "points = rng.uniform(size=(31, 2))\n",
    "points = 2.10 * np.unique(np.round(points, 1), axis=0) + np.array([-0.57, -1.05])[None, :]\n",
    "print(points.shape)"
   ]
  },
  {
   "cell_type": "code",
   "execution_count": null,
   "id": "6cae88fa-4540-4933-86b4-44a33f21e39d",
   "metadata": {},
   "outputs": [],
   "source": [
    "def plot_vector(vec, name, **kwargs):\n",
    "    \"\"\"\n",
    "    ## Bugs:\n",
    "    - Specialized to d=2\n",
    "    \"\"\"\n",
    "    vechat = vec / np.sqrt(np.sum(vec * vec))\n",
    "    vecorth = np.array([-1. * vechat[1], vechat[0]])\n",
    "    foo = [[0, vec[i], vec[i] - 0.1 * vechat[i] - 0.02 * vecorth[i], vec[i] - 0.1 * vechat[i] + 0.02 * vecorth[i], vec[i]] for i in [0,1]]\n",
    "    plt.plot(foo[1], foo[0], **kwargs) # plot 1 before 0\n",
    "    plt.text(vec[1] + 0.15 * vechat[1], vec[0] + 0.15 * vechat[0], name, ha=\"center\", va=\"center\")\n",
    "    return None\n",
    "\n",
    "def plot_vectors(vectors, name_str, grid=True, **kwargs):\n",
    "    plt.axis(\"equal\")\n",
    "    plt.axis(\"off\")\n",
    "    plt.margins(x=0)\n",
    "    plt.margins(y=0)\n",
    "    for i, vec in enumerate(vectors):\n",
    "        print(name_str)\n",
    "        plot_vector(vec, name_str.format(i), **kwargs)\n",
    "    if grid:\n",
    "        plot_grids()\n",
    "    return None\n",
    "\n",
    "def plot_grids():\n",
    "    a = 2.5\n",
    "    b = (a + 1.) / 2.\n",
    "    plt.plot([-b, b], [0, 0], \"k-\", lw=0.5, alpha=0.5, zorder=10)\n",
    "    plt.plot([0, 0], [-1, a], \"k-\", lw=0.5, alpha=0.5, zorder=10)\n",
    "    if np.linalg.slogdet(METRIC)[0] < 0:\n",
    "        plt.plot([-1, b], [-1, b], \"k--\", lw=0.5, alpha=0.5, zorder=10)\n",
    "        plt.plot([1, -b], [-1, b], \"k--\", lw=0.5, alpha=0.5, zorder=10)\n",
    "        plt.text(0, a - 0.2, \"Lorentz space O(1,1) \", ha=\"right\")\n",
    "    else:\n",
    "        plt.text(0, a - 0.2, \"Euclidean space O(2) \", ha=\"right\")\n",
    "    plt.xlim(-b, b)\n",
    "    plt.ylim(-1., a)\n",
    "    return None"
   ]
  },
  {
   "cell_type": "code",
   "execution_count": null,
   "id": "a377a8db-34a3-4ced-b42d-0a18638dc8bb",
   "metadata": {},
   "outputs": [],
   "source": [
    "plot_vectors(vectors, r\"$v_{}$\", grid=False, color=\"k\", lw=3, alpha=0.25)\n",
    "us = orthogonalize(vectors)\n",
    "plot_vectors(us, r\"$\\hat u_{}$\", color=\"k\", lw=1.5, alpha=1.0)\n",
    "plt.savefig(\"E_v.png\", dpi=dpi, bbox_inches=\"tight\")"
   ]
  },
  {
   "cell_type": "code",
   "execution_count": null,
   "id": "ee04af59-cbb0-4f5d-9dc2-60bd180d1125",
   "metadata": {},
   "outputs": [],
   "source": [
    "plot_vectors(vectors_prime, r\"$v'_{}$\", grid=False, color=\"r\", lw=3, alpha=0.25)\n",
    "us_prime = orthogonalize(vectors_prime)\n",
    "plot_vectors(us_prime, r\"$\\hat u'_{}$\", color=\"r\", lw=1.5, alpha=1.0)\n",
    "plt.savefig(\"E_vp.png\", dpi=dpi, bbox_inches=\"tight\")"
   ]
  },
  {
   "cell_type": "code",
   "execution_count": null,
   "id": "518c2e17-d6e5-42e8-a954-8e8304280761",
   "metadata": {},
   "outputs": [],
   "source": [
    "def transform(us, us_prime):\n",
    "    Q = 0.\n",
    "    for u, uprime in zip(us, us_prime):\n",
    "        Q += (np.outer(u, uprime) / inner(uprime, uprime)) @ METRIC\n",
    "    return Q\n",
    "\n",
    "def plot_transformed_points(points, vs, vs_prime, **kwargs):\n",
    "    us = orthogonalize(vs)\n",
    "    us_prime = orthogonalize(vs_prime)\n",
    "    points_prime = 1. * points # copy\n",
    "    Q = transform(us_prime, us)\n",
    "    for i in range(len(points)):\n",
    "        points_prime[i] = Q @ points[i]\n",
    "    plt.scatter(points_prime[:, 1], points_prime[:, 0], **kwargs) # plot 1 before 0\n",
    "    return None\n",
    "\n",
    "def plot_transform(points, us, us_prime):\n",
    "    plt.axis(\"equal\")\n",
    "    plt.axis(\"off\")\n",
    "    for i, u in enumerate(us):\n",
    "        plot_vector(u, r\"$\\hat u_{}$\".format(i), color=\"k\", lw=1.5)\n",
    "    for i, u in enumerate(us_prime):\n",
    "        plot_vector(u, r\"$\\hat u'_{}$\".format(i), color=\"r\", lw=1.5)\n",
    "    plt.scatter(points[:, 1], points[:, 0], c=\"k\", s=3) # plot 1 before 0\n",
    "    plot_transformed_points(points, us, us_prime, c=\"r\", s=3)\n",
    "    for f in np.arange(0.1, 0.95, 0.1):\n",
    "        us_pp = f * us_prime + (1 - f) * us\n",
    "        plot_transformed_points(points, us, us_pp, c=\"k\", alpha=0.25, s=1)\n",
    "    plot_grids()\n",
    "    return None"
   ]
  },
  {
   "cell_type": "code",
   "execution_count": null,
   "id": "8527ece4-8d25-40b2-9327-6647165d7060",
   "metadata": {},
   "outputs": [],
   "source": [
    "plot_transform(points, us, us_prime)\n",
    "plt.savefig(\"E_Q.png\", dpi=dpi, bbox_inches=\"tight\")"
   ]
  },
  {
   "cell_type": "code",
   "execution_count": null,
   "id": "bfa9ca07-1b8c-40fc-b78d-11bf9c927b2e",
   "metadata": {},
   "outputs": [],
   "source": [
    "# Go to Lorentz Group\n",
    "foo = np.ones(d)\n",
    "foo[1:] = -1. * foo[1:]\n",
    "METRIC = np.diag(foo)"
   ]
  },
  {
   "cell_type": "code",
   "execution_count": null,
   "id": "855b1f48-21f8-40f2-b602-b53ad717b130",
   "metadata": {},
   "outputs": [],
   "source": [
    "plot_vectors(vectors, r\"$v_{}$\", grid=False, color=\"k\", lw=3, alpha=0.25)\n",
    "us = orthogonalize(vectors)\n",
    "plot_vectors(us, r\"$\\hat u_{}$\", color=\"k\", lw=1.5, alpha=1.0)\n",
    "plt.savefig(\"L_v.png\", dpi=dpi, bbox_inches=\"tight\")"
   ]
  },
  {
   "cell_type": "code",
   "execution_count": null,
   "id": "4761bd85-09a0-40b2-9dc3-5cf6fd8da1f7",
   "metadata": {},
   "outputs": [],
   "source": [
    "plot_vectors(vectors_prime, r\"$v'_{}$\", grid=False, color=\"r\", lw=3, alpha=0.25)\n",
    "us_prime = orthogonalize(vectors_prime)\n",
    "plot_vectors(us_prime, r\"$\\hat u'_{}$\", color=\"r\", lw=1.5, alpha=1.0)\n",
    "plt.savefig(\"L_vp.png\", dpi=dpi, bbox_inches=\"tight\")"
   ]
  },
  {
   "cell_type": "code",
   "execution_count": null,
   "id": "0ae8d7ef-143d-4d6c-966f-53991a95bc73",
   "metadata": {},
   "outputs": [],
   "source": [
    "plot_transform(points, us, us_prime)\n",
    "plt.savefig(\"L_Q.png\", dpi=dpi, bbox_inches=\"tight\")"
   ]
  },
  {
   "cell_type": "code",
   "execution_count": null,
   "id": "6aeabdc8-bc17-43f8-ae80-14b90f7e7c68",
   "metadata": {},
   "outputs": [],
   "source": []
  }
 ],
 "metadata": {
  "kernelspec": {
   "display_name": "Python 3 (ipykernel)",
   "language": "python",
   "name": "python3"
  },
  "language_info": {
   "codemirror_mode": {
    "name": "ipython",
    "version": 3
   },
   "file_extension": ".py",
   "mimetype": "text/x-python",
   "name": "python",
   "nbconvert_exporter": "python",
   "pygments_lexer": "ipython3",
   "version": "3.9.6"
  }
 },
 "nbformat": 4,
 "nbformat_minor": 5
}
