{
 "cells": [
  {
   "cell_type": "markdown",
   "id": "3ff5aee0-8e67-4682-a548-4fc1f29c9e39",
   "metadata": {},
   "source": [
    "# Make plots for the RelativisticOrthogonalization project"
   ]
  },
  {
   "cell_type": "code",
   "execution_count": null,
   "id": "c181b9dc-fe4a-4c9d-bc3d-5b0091617d32",
   "metadata": {},
   "outputs": [],
   "source": [
    "import numpy as np\n",
    "import pylab as plt"
   ]
  },
  {
   "cell_type": "code",
   "execution_count": null,
   "id": "eba97dc0-119e-4354-b911-7685fca5e469",
   "metadata": {},
   "outputs": [],
   "source": [
    "# Start with Orthogonal Group\n",
    "d = 2\n",
    "METRIC = np.eye(d)"
   ]
  },
  {
   "cell_type": "code",
   "execution_count": null,
   "id": "953c9c73-d992-457d-b67a-9e79e5e17ad4",
   "metadata": {},
   "outputs": [],
   "source": [
    "def inner(v1, v2):\n",
    "    return v1.T @ METRIC @ v2.T\n",
    "\n",
    "def norm(v):\n",
    "    return np.sqrt(np.abs(inner(v, v)))\n",
    "\n",
    "def orthogonalize(vectors):\n",
    "    out_vectors = []\n",
    "    for vi in vectors:\n",
    "        ui = 1. * vi\n",
    "        for uj in out_vectors:\n",
    "            ui -= (inner(ui, uj) / inner(uj, uj)) * uj\n",
    "        ui /= norm(ui)\n",
    "        out_vectors += [ui, ]\n",
    "    return np.array(out_vectors)"
   ]
  },
  {
   "cell_type": "code",
   "execution_count": null,
   "id": "dd899c69-ac8c-4845-b803-5a5c30b8cbca",
   "metadata": {},
   "outputs": [],
   "source": [
    "vectors = np.array([[2.12, 0.75], [1.23, 2.11]])\n",
    "print(vectors)"
   ]
  },
  {
   "cell_type": "code",
   "execution_count": null,
   "id": "22c46334-4e72-4322-81bb-bf652a738cfb",
   "metadata": {},
   "outputs": [],
   "source": [
    "print(orthogonalize(vectors))"
   ]
  },
  {
   "cell_type": "code",
   "execution_count": null,
   "id": "6cae88fa-4540-4933-86b4-44a33f21e39d",
   "metadata": {},
   "outputs": [],
   "source": [
    "def plot_vector(vec, **kwargs):\n",
    "    \"\"\"\n",
    "    ## Bugs:\n",
    "    - Specialized to d=2\n",
    "    \"\"\"\n",
    "    vechat = vec / np.sqrt(np.sum(vec * vec))\n",
    "    vecorth = np.array([-1. * vechat[1], vechat[0]])\n",
    "    foo = [[0, vec[i], vec[i] - 0.1 * vechat[i] - 0.02 * vecorth[i], vec[i] - 0.1 * vechat[i] + 0.02 * vecorth[i], vec[i]] for i in [0,1]]\n",
    "    plt.plot(foo[1], foo[0], **kwargs)\n",
    "    return None\n",
    "\n",
    "def plot_vectors(vectors, **kwargs):\n",
    "    plt.axis(\"equal\")\n",
    "    plt.axis(\"off\")\n",
    "    for vec in vectors:\n",
    "        plot_vector(vec, **kwargs)\n",
    "    a = 2.5\n",
    "    plt.plot([-a, a], [0, 0], \"k-\", lw=0.5, alpha=0.5, zorder=10)\n",
    "    plt.plot([0, 0], [-1, a], \"k-\", lw=0.5, alpha=0.5, zorder=10)\n",
    "    if np.linalg.slogdet(METRIC)[0] < 0:\n",
    "        plt.plot([-1, a], [-1, a], \"k--\", lw=0.5, alpha=0.5, zorder=10)\n",
    "        plt.plot([1, -a], [-1, a], \"k--\", lw=0.5, alpha=0.5, zorder=10)\n",
    "        plt.title(\"Lorentz space O(1,1)\")\n",
    "    else:\n",
    "        plt.title(\"Euclidean space O(2)\")"
   ]
  },
  {
   "cell_type": "code",
   "execution_count": null,
   "id": "a377a8db-34a3-4ced-b42d-0a18638dc8bb",
   "metadata": {},
   "outputs": [],
   "source": [
    "plot_vectors(vectors, color=\"k\", lw=3, alpha=0.25)\n",
    "us = orthogonalize(vectors)\n",
    "plot_vectors(us, color=\"k\", lw=1.5, alpha=1.0)"
   ]
  },
  {
   "cell_type": "code",
   "execution_count": null,
   "id": "bfa9ca07-1b8c-40fc-b78d-11bf9c927b2e",
   "metadata": {},
   "outputs": [],
   "source": [
    "# Go to Lorentz Group\n",
    "foo = np.ones(d)\n",
    "foo[1:] = -1. * foo[1:]\n",
    "METRIC = np.diag(foo)"
   ]
  },
  {
   "cell_type": "code",
   "execution_count": null,
   "id": "855b1f48-21f8-40f2-b602-b53ad717b130",
   "metadata": {},
   "outputs": [],
   "source": [
    "plot_vectors(vectors, color=\"k\", lw=3, alpha=0.25)\n",
    "us = orthogonalize(vectors)\n",
    "plot_vectors(us, color=\"k\", lw=1.5, alpha=1.0)"
   ]
  },
  {
   "cell_type": "code",
   "execution_count": null,
   "id": "4761bd85-09a0-40b2-9dc3-5cf6fd8da1f7",
   "metadata": {},
   "outputs": [],
   "source": []
  }
 ],
 "metadata": {
  "kernelspec": {
   "display_name": "Python 3 (ipykernel)",
   "language": "python",
   "name": "python3"
  },
  "language_info": {
   "codemirror_mode": {
    "name": "ipython",
    "version": 3
   },
   "file_extension": ".py",
   "mimetype": "text/x-python",
   "name": "python",
   "nbconvert_exporter": "python",
   "pygments_lexer": "ipython3",
   "version": "3.9.6"
  }
 },
 "nbformat": 4,
 "nbformat_minor": 5
}
