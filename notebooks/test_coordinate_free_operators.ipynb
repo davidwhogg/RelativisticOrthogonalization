{
 "cells": [
  {
   "cell_type": "markdown",
   "metadata": {},
   "source": [
    "# Testing coordinate-free operator expressions\n",
    "\n",
    "## Author:\n",
    "- **David W. Hogg** (NYU)\n",
    "\n",
    "## To-do items:\n",
    "- Only some of the paper's results are tested so far."
   ]
  },
  {
   "cell_type": "code",
   "execution_count": null,
   "metadata": {
    "id": "Ih67jrROLZfV"
   },
   "outputs": [],
   "source": [
    "import numpy as np\n",
    "import pylab as plt\n",
    "# plt.rcParams.update({\"text.usetex\": True})\n",
    "rng = np.random.default_rng(17)"
   ]
  },
  {
   "cell_type": "code",
   "execution_count": null,
   "metadata": {
    "id": "fwbrA5vgNAhq"
   },
   "outputs": [],
   "source": [
    "def inner(u, v):\n",
    "    return u.T @ METRIC @ v\n",
    "\n",
    "def outer(u, v):\n",
    "    return np.outer(u, v) @ METRIC\n",
    "\n",
    "def norm(v):\n",
    "    return np.sqrt(np.abs(inner(v, v)))\n",
    "\n",
    "def cosine(u, v):\n",
    "    return inner(u, v) / norm(u) / norm(v)\n",
    "\n",
    "def bra(u):\n",
    "    return u.T @ METRIC / inner(u, u)\n",
    "\n",
    "def ket(u):\n",
    "    return u\n",
    "\n",
    "def braket(u, v):\n",
    "    return bra(u) @ ket(v)\n",
    "\n",
    "def ketbra(u, v):\n",
    "    \"\"\"\n",
    "    ## Bugs:\n",
    "    - Ugly broadcast.\n",
    "    \"\"\"\n",
    "    return ket(u)[:, None] @ bra(v)[None, :]"
   ]
  },
  {
   "cell_type": "code",
   "execution_count": null,
   "metadata": {
    "id": "48da4EUZMd3A"
   },
   "outputs": [],
   "source": [
    "def orthogonalize(vs):\n",
    "    dpluss, _ = METRIC.shape\n",
    "    n, dps = vs.shape\n",
    "    assert n <= dpluss\n",
    "    assert dps == dpluss\n",
    "    us = np.zeros_like(vs)\n",
    "    for i in range(n):\n",
    "        ui = 1. * vs[i]\n",
    "        for j in range(i):\n",
    "            ui -= (inner(vs[i], us[j]) / inner(us[j], us[j])) * us[j]\n",
    "        us[i] = ui\n",
    "    return us\n",
    "\n",
    "def orthonormalize(vs):\n",
    "    n, dee = vs.shape\n",
    "    us = orthogonalize(vs)\n",
    "    for i in range(n):\n",
    "        us[i] /= norm(us[i])\n",
    "    return us"
   ]
  },
  {
   "cell_type": "code",
   "execution_count": null,
   "metadata": {},
   "outputs": [],
   "source": [
    "def projector_from_vectors(vs):\n",
    "    uhats = orthonormalize(vs)\n",
    "    return np.sum(np.array([ketbra(u, u) for u in uhats]), axis=0)\n",
    "\n",
    "TINY = 1.e-10 # loose\n",
    "def transform_from_bases(uhats, vhats):\n",
    "    assert len(uhats) == len(vhats)\n",
    "    assert len(uhats) == len(METRIC)\n",
    "    for u, v in zip(uhats, vhats):\n",
    "        assert (inner(u, u) - inner(v, v)) ** 2 < TINY\n",
    "    return np.sum(np.array([ketbra(v, u) for u, v in zip(uhats, vhats)]), axis=0)"
   ]
  },
  {
   "cell_type": "code",
   "execution_count": null,
   "metadata": {
    "id": "G19MRFhjQNR5"
   },
   "outputs": [],
   "source": [
    "def projector_from_vector_pair(u, v):\n",
    "    assert inner(u, u) * inner(v, v) > 0. # both timelike or both spacelike\n",
    "    uhat, vhat = u / norm(u), v / norm(v)\n",
    "    return (ketbra(uhat, uhat) + ketbra(vhat, vhat)\n",
    "            - braket(uhat, vhat) * (ketbra(uhat, vhat) + ketbra(vhat, uhat))) \\\n",
    "    / (1. - braket(uhat, vhat) ** 2)\n",
    "    \n",
    "def transform_from_vector_pair(u, v):\n",
    "    dpluss = len(METRIC)\n",
    "    Pi = projector_from_vector_pair(u, v) # this function does the assert\n",
    "    Pi_perp = np.identity(dpluss) - Pi\n",
    "    uhat, vhat = u / norm(u), v / norm(v)\n",
    "    return ketbra(vhat, uhat) - ketbra(uhat, vhat) + braket(uhat, vhat) * Pi + Pi_perp"
   ]
  },
  {
   "cell_type": "code",
   "execution_count": null,
   "metadata": {
    "id": "HQ1pAKceLgCw"
   },
   "outputs": [],
   "source": [
    "s, d = 1, 3 # Lorentz space\n",
    "foo = np.ones(d + s)\n",
    "foo[s:] = -1.\n",
    "METRIC = np.diag(foo)"
   ]
  },
  {
   "cell_type": "code",
   "execution_count": null,
   "metadata": {
    "id": "TON9h97bPgED"
   },
   "outputs": [],
   "source": [
    "# quick test of orthonormalize\n",
    "vs = 7.0 * rng.normal(size=(len(METRIC), len(METRIC)))\n",
    "us = orthonormalize(vs)\n",
    "for u in us:\n",
    "    for uu in us:\n",
    "        print(inner(u, uu))"
   ]
  },
  {
   "cell_type": "code",
   "execution_count": null,
   "metadata": {},
   "outputs": [],
   "source": [
    "# quick test of projector\n",
    "print(projector_from_vectors(vs))"
   ]
  },
  {
   "cell_type": "code",
   "execution_count": null,
   "metadata": {
    "id": "jWfg3K2XWT3P"
   },
   "outputs": [],
   "source": [
    "# now do industrial tests of everything -- this is a lot!\n",
    "ntrial = 2 ** 10\n",
    "Euclidean_metric = np.eye(4)\n",
    "Lorentz_metric = np.diag([1., -1., -1., -1.])\n",
    "for METRIC in [Euclidean_metric, Lorentz_metric]:\n",
    "    dps = len(METRIC)\n",
    "    if np.allclose(METRIC, Euclidean_metric):\n",
    "        title = \"Euclidean\"\n",
    "    else:\n",
    "        title = \"Lorentz\"\n",
    "    npass = 0\n",
    "    for trial in range(ntrial):\n",
    "        while True:\n",
    "            uu, vv = rng.normal(size=dps), rng.normal(size=dps)\n",
    "            if inner(uu, uu) > 0. and inner(vv, vv) > 0.: # both timelike\n",
    "                break\n",
    "        # Make a transform from the two vectors\n",
    "        Q = transform_from_vector_pair(uu, vv)\n",
    "        # Make two orthonormal bases\n",
    "        vecs = rng.normal(size=METRIC.shape)\n",
    "        vecs[0] = uu\n",
    "        uhats = orthonormalize(vecs)\n",
    "        vecs[0] = vv\n",
    "        vhats = orthonormalize(vecs)\n",
    "        Q2 = transform_from_bases(uhats, vhats)\n",
    "        if (True\n",
    "            and np.allclose(Q.T @ METRIC @ Q, METRIC)          # is it a Lorentz transform?\n",
    "            and np.allclose(Q @ uu / norm(uu), vv / norm(vv))  # is it the correct Lorentz transform?\n",
    "            and np.allclose(Q2.T @ METRIC @ Q2, METRIC)        # is it a Lorentz transform?\n",
    "            and np.allclose(Q2 @ uu / norm(uu), vv / norm(vv)) # is it the correct Lorentz transform?\n",
    "           ):\n",
    "            npass += 1\n",
    "    print(\"testing \" + title + \" operators: passed\", npass, \"/\", ntrial,\n",
    "          f\"({100*npass/ntrial:.1f} percent)\")"
   ]
  },
  {
   "cell_type": "code",
   "execution_count": null,
   "metadata": {},
   "outputs": [],
   "source": []
  }
 ],
 "metadata": {
  "colab": {
   "authorship_tag": "ABX9TyNEmawK9SGTaHhhhdb3PDB6",
   "include_colab_link": true,
   "name": "coordinate_free_operators.ipynb",
   "provenance": []
  },
  "kernelspec": {
   "display_name": "Python 3 (ipykernel)",
   "language": "python",
   "name": "python3"
  },
  "language_info": {
   "codemirror_mode": {
    "name": "ipython",
    "version": 3
   },
   "file_extension": ".py",
   "mimetype": "text/x-python",
   "name": "python",
   "nbconvert_exporter": "python",
   "pygments_lexer": "ipython3",
   "version": "3.9.6"
  }
 },
 "nbformat": 4,
 "nbformat_minor": 4
}
